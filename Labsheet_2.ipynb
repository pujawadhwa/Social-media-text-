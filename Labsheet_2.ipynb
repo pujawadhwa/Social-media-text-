{
  "nbformat": 4,
  "nbformat_minor": 0,
  "metadata": {
    "colab": {
      "provenance": []
    },
    "kernelspec": {
      "name": "python3",
      "display_name": "Python 3"
    },
    "language_info": {
      "name": "python"
    }
  },
  "cells": [
    {
      "cell_type": "markdown",
      "source": [
        "# Text Mining with Word Embedding"
      ],
      "metadata": {
        "id": "cl0-LSBudP9j"
      }
    },
    {
      "cell_type": "markdown",
      "source": [
        "Objective:\n",
        "\n",
        "\n",
        "\n",
        "1.   Understand the concept of word embeddings and their role in text mining.\n",
        "\n",
        "2.   Implement word embeddings using popular Python libraries.\n",
        "\n",
        "3.   Apply word embeddings to a text mining task.\n"
      ],
      "metadata": {
        "id": "3Ds-LtPIdwjW"
      }
    },
    {
      "cell_type": "markdown",
      "source": [
        "Task 1: Setting Up the Environment\n",
        "\n",
        "1.Install the required libraries:"
      ],
      "metadata": {
        "id": "k4V6Fksbjvf1"
      }
    },
    {
      "cell_type": "code",
      "execution_count": null,
      "metadata": {
        "colab": {
          "base_uri": "https://localhost:8080/"
        },
        "id": "68sF977WdHpS",
        "outputId": "90d447fd-faf9-489d-c0a5-3329b59a4aec"
      },
      "outputs": [
        {
          "output_type": "stream",
          "name": "stdout",
          "text": [
            "Requirement already satisfied: nltk in /usr/local/lib/python3.10/dist-packages (3.8.1)\n",
            "Requirement already satisfied: gensim in /usr/local/lib/python3.10/dist-packages (4.3.3)\n",
            "Requirement already satisfied: scikit-learn in /usr/local/lib/python3.10/dist-packages (1.3.2)\n",
            "Requirement already satisfied: pandas in /usr/local/lib/python3.10/dist-packages (2.1.4)\n",
            "Requirement already satisfied: matplotlib in /usr/local/lib/python3.10/dist-packages (3.7.1)\n",
            "Requirement already satisfied: click in /usr/local/lib/python3.10/dist-packages (from nltk) (8.1.7)\n",
            "Requirement already satisfied: joblib in /usr/local/lib/python3.10/dist-packages (from nltk) (1.4.2)\n",
            "Requirement already satisfied: regex>=2021.8.3 in /usr/local/lib/python3.10/dist-packages (from nltk) (2024.5.15)\n",
            "Requirement already satisfied: tqdm in /usr/local/lib/python3.10/dist-packages (from nltk) (4.66.4)\n",
            "Requirement already satisfied: numpy<2.0,>=1.18.5 in /usr/local/lib/python3.10/dist-packages (from gensim) (1.26.4)\n",
            "Requirement already satisfied: scipy<1.14.0,>=1.7.0 in /usr/local/lib/python3.10/dist-packages (from gensim) (1.13.1)\n",
            "Requirement already satisfied: smart-open>=1.8.1 in /usr/local/lib/python3.10/dist-packages (from gensim) (7.0.4)\n",
            "Requirement already satisfied: threadpoolctl>=2.0.0 in /usr/local/lib/python3.10/dist-packages (from scikit-learn) (3.5.0)\n",
            "Requirement already satisfied: python-dateutil>=2.8.2 in /usr/local/lib/python3.10/dist-packages (from pandas) (2.8.2)\n",
            "Requirement already satisfied: pytz>=2020.1 in /usr/local/lib/python3.10/dist-packages (from pandas) (2024.1)\n",
            "Requirement already satisfied: tzdata>=2022.1 in /usr/local/lib/python3.10/dist-packages (from pandas) (2024.1)\n",
            "Requirement already satisfied: contourpy>=1.0.1 in /usr/local/lib/python3.10/dist-packages (from matplotlib) (1.2.1)\n",
            "Requirement already satisfied: cycler>=0.10 in /usr/local/lib/python3.10/dist-packages (from matplotlib) (0.12.1)\n",
            "Requirement already satisfied: fonttools>=4.22.0 in /usr/local/lib/python3.10/dist-packages (from matplotlib) (4.53.1)\n",
            "Requirement already satisfied: kiwisolver>=1.0.1 in /usr/local/lib/python3.10/dist-packages (from matplotlib) (1.4.5)\n",
            "Requirement already satisfied: packaging>=20.0 in /usr/local/lib/python3.10/dist-packages (from matplotlib) (24.1)\n",
            "Requirement already satisfied: pillow>=6.2.0 in /usr/local/lib/python3.10/dist-packages (from matplotlib) (9.4.0)\n",
            "Requirement already satisfied: pyparsing>=2.3.1 in /usr/local/lib/python3.10/dist-packages (from matplotlib) (3.1.2)\n",
            "Requirement already satisfied: six>=1.5 in /usr/local/lib/python3.10/dist-packages (from python-dateutil>=2.8.2->pandas) (1.16.0)\n",
            "Requirement already satisfied: wrapt in /usr/local/lib/python3.10/dist-packages (from smart-open>=1.8.1->gensim) (1.16.0)\n"
          ]
        }
      ],
      "source": [
        "pip install nltk gensim scikit-learn pandas matplotlib\n"
      ]
    },
    {
      "cell_type": "markdown",
      "source": [
        "2. Import the necessary modules:"
      ],
      "metadata": {
        "id": "CNjeugxpj2-M"
      }
    },
    {
      "cell_type": "code",
      "source": [
        "import nltk\n",
        "from gensim.models import Word2Vec\n",
        "from sklearn.decomposition import PCA\n",
        "import matplotlib.pyplot as plt\n",
        "import pandas as pd\n",
        "from sklearn.model_selection import train_test_split\n",
        "from sklearn.linear_model import LogisticRegression\n",
        "from sklearn.metrics import accuracy_score\n",
        "import numpy as np"
      ],
      "metadata": {
        "id": "UbfL3eDoj8w1"
      },
      "execution_count": null,
      "outputs": []
    },
    {
      "cell_type": "markdown",
      "source": [
        "Task 2: Data Preprocessing\n",
        "\n",
        "1. Load the text data:"
      ],
      "metadata": {
        "id": "qspCvBWokC75"
      }
    },
    {
      "cell_type": "code",
      "source": [
        "# Sample text data\n",
        "text_data = [\n",
        "    \"Natural language processing is a branch of artificial intelligence.\",\n",
        "    \"Word embeddings are a type of word representation.\",\n",
        "    \"Text mining involves extracting meaningful information from text.\",\n",
        "    \"Machine learning algorithms are used for text classification.\"\n",
        "]"
      ],
      "metadata": {
        "id": "DYPpZ8yvkMSF"
      },
      "execution_count": null,
      "outputs": []
    },
    {
      "cell_type": "markdown",
      "source": [
        "2. Tokenize the text data:"
      ],
      "metadata": {
        "id": "i6Dpmro7kOnx"
      }
    },
    {
      "cell_type": "code",
      "source": [
        "from nltk.tokenize import word_tokenize\n",
        "nltk.download('punkt')\n",
        "\n",
        "tokenized_data = [word_tokenize(sentence.lower()) for sentence in text_data]\n",
        "print(tokenized_data)"
      ],
      "metadata": {
        "colab": {
          "base_uri": "https://localhost:8080/"
        },
        "id": "dOn1xrxwkSVN",
        "outputId": "f126201f-97a0-4303-d287-04977d9678b2"
      },
      "execution_count": null,
      "outputs": [
        {
          "output_type": "stream",
          "name": "stdout",
          "text": [
            "[['natural', 'language', 'processing', 'is', 'a', 'branch', 'of', 'artificial', 'intelligence', '.'], ['word', 'embeddings', 'are', 'a', 'type', 'of', 'word', 'representation', '.'], ['text', 'mining', 'involves', 'extracting', 'meaningful', 'information', 'from', 'text', '.'], ['machine', 'learning', 'algorithms', 'are', 'used', 'for', 'text', 'classification', '.']]\n"
          ]
        },
        {
          "output_type": "stream",
          "name": "stderr",
          "text": [
            "[nltk_data] Downloading package punkt to /root/nltk_data...\n",
            "[nltk_data]   Package punkt is already up-to-date!\n"
          ]
        }
      ]
    },
    {
      "cell_type": "markdown",
      "source": [
        "Task 3: Training Word Embeddings\n",
        "\n",
        "1. Train a Word2Vec model:"
      ],
      "metadata": {
        "id": "8ftXW5jfkXRD"
      }
    },
    {
      "cell_type": "code",
      "source": [
        "model = Word2Vec(sentences=tokenized_data, vector_size=100, window=5, min_count=1, workers=4)"
      ],
      "metadata": {
        "id": "ea42tjyYkc3i"
      },
      "execution_count": null,
      "outputs": []
    },
    {
      "cell_type": "markdown",
      "source": [
        "2. Explore the Word2Vec model:"
      ],
      "metadata": {
        "id": "l2zs-EVmkhUn"
      }
    },
    {
      "cell_type": "code",
      "source": [
        "# Get the vocabulary\n",
        "vocab = list(model.wv.index_to_key)\n",
        "print(vocab)\n",
        "\n",
        "# Get the vector for a specific word\n",
        "word_vector = model.wv['word']\n",
        "print(word_vector)"
      ],
      "metadata": {
        "colab": {
          "base_uri": "https://localhost:8080/"
        },
        "id": "7J4bIX8jkmCH",
        "outputId": "c0675d73-4a09-4ade-d37d-e885683010ca"
      },
      "execution_count": null,
      "outputs": [
        {
          "output_type": "stream",
          "name": "stdout",
          "text": [
            "['.', 'text', 'are', 'a', 'of', 'word', 'classification', 'language', 'processing', 'is', 'branch', 'artificial', 'intelligence', 'embeddings', 'type', 'for', 'representation', 'mining', 'involves', 'extracting', 'meaningful', 'information', 'from', 'machine', 'learning', 'algorithms', 'used', 'natural']\n",
            "[-8.7274825e-03  2.1301615e-03 -8.7354420e-04 -9.3190884e-03\n",
            " -9.4281426e-03 -1.4107180e-03  4.4324086e-03  3.7040710e-03\n",
            " -6.4986930e-03 -6.8730675e-03 -4.9994122e-03 -2.2868442e-03\n",
            " -7.2502876e-03 -9.6033178e-03 -2.7436293e-03 -8.3628409e-03\n",
            " -6.0388758e-03 -5.6709289e-03 -2.3441375e-03 -1.7069972e-03\n",
            " -8.9569986e-03 -7.3519943e-04  8.1525063e-03  7.6904297e-03\n",
            " -7.2061159e-03 -3.6668312e-03  3.1185520e-03 -9.5707225e-03\n",
            "  1.4764392e-03  6.5244664e-03  5.7464195e-03 -8.7630618e-03\n",
            " -4.5171441e-03 -8.1401607e-03  4.5956374e-05  9.2636338e-03\n",
            "  5.9733056e-03  5.0673080e-03  5.0610625e-03 -3.2429171e-03\n",
            "  9.5521836e-03 -7.3564244e-03 -7.2703874e-03 -2.2653891e-03\n",
            " -7.7856064e-04 -3.2161034e-03 -5.9258583e-04  7.4888230e-03\n",
            " -6.9751858e-04 -1.6249407e-03  2.7443992e-03 -8.3591007e-03\n",
            "  7.8558037e-03  8.5361041e-03 -9.5840869e-03  2.4462664e-03\n",
            "  9.9049713e-03 -7.6658037e-03 -6.9669187e-03 -7.7365171e-03\n",
            "  8.3959233e-03 -6.8133592e-04  9.1444086e-03 -8.1582209e-03\n",
            "  3.7430846e-03  2.6350426e-03  7.4271322e-04  2.3276759e-03\n",
            " -7.4690939e-03 -9.3583735e-03  2.3545765e-03  6.1484552e-03\n",
            "  7.9856887e-03  5.7358947e-03 -7.7733636e-04  8.3061643e-03\n",
            " -9.3363142e-03  3.4061326e-03  2.6675343e-04  3.8572443e-03\n",
            "  7.3857834e-03 -6.7251669e-03  5.5844807e-03 -9.5222248e-03\n",
            " -8.0445886e-04 -8.6887367e-03 -5.0986730e-03  9.2892265e-03\n",
            " -1.8582619e-03  2.9144264e-03  9.0712793e-03  8.9381328e-03\n",
            " -8.2084350e-03 -3.0123137e-03  9.8866057e-03  5.1044310e-03\n",
            " -1.5880871e-03 -8.6920215e-03  2.9615164e-03 -6.6758976e-03]\n"
          ]
        }
      ]
    },
    {
      "cell_type": "markdown",
      "source": [
        "Task 4: Visualizing Word Embeddings\n",
        "\n",
        "1. Reduce dimensions using PCA:"
      ],
      "metadata": {
        "id": "Yt8ZZ1yDkvuK"
      }
    },
    {
      "cell_type": "code",
      "source": [
        "X = model.wv[model.wv.index_to_key]\n",
        "pca = PCA(n_components=2)\n",
        "result = pca.fit_transform(X)"
      ],
      "metadata": {
        "id": "A-xtB0yRk2NO"
      },
      "execution_count": null,
      "outputs": []
    },
    {
      "cell_type": "markdown",
      "source": [
        "2. Plot the word vectors:"
      ],
      "metadata": {
        "id": "xVdZAivwk3Wg"
      }
    },
    {
      "cell_type": "code",
      "source": [
        "plt.figure(figsize=(10, 10))\n",
        "plt.scatter(result[:, 0], result[:, 1])\n",
        "\n",
        "for i, word in enumerate(model.wv.index_to_key):\n",
        "    plt.annotate(word, xy=(result[i, 0], result[i, 1]))\n",
        "\n",
        "plt.show()"
      ],
      "metadata": {
        "colab": {
          "base_uri": "https://localhost:8080/",
          "height": 830
        },
        "id": "XcuZ8QZvk7Md",
        "outputId": "834cadce-defe-4f6c-ca75-1eeb3a2dc69b"
      },
      "execution_count": null,
      "outputs": [
        {
          "output_type": "display_data",
          "data": {
            "text/plain": [
              "<Figure size 1000x1000 with 1 Axes>"
            ],
            "image/png": "[encoded data removed]"
          },
          "metadata": {}
        }
      ]
    },
    {
      "cell_type": "markdown",
      "source": [
        "Task 5: Applying Word Embeddings to a Text Mining Task\n",
        "\n",
        "1. Load a sample dataset:"
      ],
      "metadata": {
        "id": "KgWa1Ia3k_p7"
      }
    },
    {
      "cell_type": "code",
      "source": [
        "# Sample dataset with text and labels\n",
        "import numpy as np\n",
        "data = {\n",
        "    'text': [\n",
        "        \"I love programming in Python\",\n",
        "        \"Natural language processing is fascinating\",\n",
        "        \"Machine learning is transforming industries\",\n",
        "        \"Python is great for data science\"\n",
        "    ],\n",
        "    'label': [1, 1, 0, 0]\n",
        "}\n",
        "df = pd.DataFrame(data)"
      ],
      "metadata": {
        "id": "tD-rkZtRlDDg"
      },
      "execution_count": null,
      "outputs": []
    },
    {
      "cell_type": "markdown",
      "source": [
        "2. Preprocess the text data:"
      ],
      "metadata": {
        "id": "nE3S_6dvlMxR"
      }
    },
    {
      "cell_type": "code",
      "source": [
        "df['tokenized_text'] = df['text'].apply(lambda x: word_tokenize(x.lower()))"
      ],
      "metadata": {
        "id": "j8Jt-1_jlPlM"
      },
      "execution_count": null,
      "outputs": []
    },
    {
      "cell_type": "markdown",
      "source": [
        "3. Convert text data to vectors:"
      ],
      "metadata": {
        "id": "n9ZCzR-PlTeK"
      }
    },
    {
      "cell_type": "code",
      "source": [
        "def get_vector(sentence, model):\n",
        "    vectors = [model.wv[word] for word in sentence if word in model.wv]\n",
        "    if len(vectors) > 0:\n",
        "        return np.mean(vectors, axis=0)\n",
        "    else:\n",
        "        return np.zeros(model.vector_size)\n",
        "\n",
        "df['vector'] = df['tokenized_text'].apply(lambda x: get_vector(x, model))"
      ],
      "metadata": {
        "id": "wzWjTp4plWfa"
      },
      "execution_count": null,
      "outputs": []
    },
    {
      "cell_type": "markdown",
      "source": [
        "4. Train a simple classifier:"
      ],
      "metadata": {
        "id": "n7b8FX0llbNt"
      }
    },
    {
      "cell_type": "code",
      "source": [
        "X = np.array(df['vector'].tolist())\n",
        "y = df['label'].values\n",
        "\n",
        "\n",
        "X_train, X_test, y_train, y_test = train_test_split(X, y, test_size=0.2, random_state=42)\n",
        "\n",
        "classifier = LogisticRegression()\n",
        "classifier.fit(X_train, y_train)\n",
        "\n",
        "y_pred = classifier.predict(X_test)\n",
        "print(f'Accuracy: {accuracy_score(y_test, y_pred)}')\n"
      ],
      "metadata": {
        "colab": {
          "base_uri": "https://localhost:8080/"
        },
        "id": "k96pjiE1leDK",
        "outputId": "613b967b-a8e2-4c5e-edd5-41f890d86a94"
      },
      "execution_count": null,
      "outputs": [
        {
          "output_type": "stream",
          "name": "stdout",
          "text": [
            "Accuracy: 0.0\n"
          ]
        }
      ]
    },
    {
      "cell_type": "markdown",
      "source": [
        "Why were we experiencing zero accuracy?\n",
        "1. Small Dataset: The sample dataset is very small, which may lead to poor performance. For meaningful results, you should use a larger dataset.\n",
        "2. Model Parameters: Fine-tuning Word2Vec parameters might help.\n",
        "3. Balanced Data: Ensure that your data is balanced between classes.\n"
      ],
      "metadata": {
        "id": "AtzZN8uh0bcE"
      }
    },
    {
      "cell_type": "markdown",
      "source": [
        "Problem 1: Try Word2Vec processing with classifier on a large dataset.\n",
        "\n",
        "Problem 2: Implement GloVe embeddings and compare the results with word2vec.\n",
        "\n",
        "Problem 3: Implement BERT on the IMDb dataset and compare its performance with the methods mentioned above."
      ],
      "metadata": {
        "id": "4G2tppVI1ff7"
      }
    }
  ]
}