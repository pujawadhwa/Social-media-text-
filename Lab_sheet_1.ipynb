{
  "nbformat": 4,
  "nbformat_minor": 0,
  "metadata": {
    "colab": {
      "provenance": []
    },
    "kernelspec": {
      "name": "python3",
      "display_name": "Python 3"
    },
    "language_info": {
      "name": "python"
    }
  },
  "cells": [
    {
      "cell_type": "markdown",
      "source": [
        "# **Lab Sheet: Text Mining Preprocessing with Python**"
      ],
      "metadata": {
        "id": "v6vZfOHWoYPj"
      }
    },
    {
      "cell_type": "markdown",
      "source": [
        "**Objectives**\n",
        "\n",
        "1.   Implement basic text preprocessing techniques.\n",
        "2.Clean and prepare text data for further analysis.\n",
        "2.   Use Bag of Words (BoW) and Term Frequency-Inverse Document Frequency (TF-IDF) models to vectorize text data.\n",
        "3.   Understand and apply common text mining techniques.\n",
        "5.Use libraries such as nltk and re to perform common preprocessing tasks.\n",
        "\n",
        "\n"
      ],
      "metadata": {
        "id": "yNCf5ILGod9J"
      }
    },
    {
      "cell_type": "markdown",
      "source": [],
      "metadata": {
        "id": "nlsL5fRqpJtn"
      }
    },
    {
      "cell_type": "markdown",
      "source": [
        "**Prerequisites**\n",
        "\n",
        "*   Basic knowledge of Python programming.\n",
        "*   Understanding of text processing concepts.\n",
        "* Python installed on your machine.\n",
        "* Internet connection to download necessary libraries.\n",
        "\n"
      ],
      "metadata": {
        "id": "m1mtG5nSpfpy"
      }
    },
    {
      "cell_type": "markdown",
      "source": [
        "**Instructions**\n",
        "\n",
        "**1. Set Up Your Environment**\n",
        "1. Install Python: Make sure you have Python 3.x installed. You can download it from python.org.\n",
        "\n",
        "2. Create and Activate a Virtual Environment (optional but recommended):\n",
        "\n",
        "* Create a virtual environment:"
      ],
      "metadata": {
        "id": "6von8yGwpyOu"
      }
    },
    {
      "cell_type": "code",
      "source": [
        "python -m venv myenv"
      ],
      "metadata": {
        "id": "ZImJVyuPp_An"
      },
      "execution_count": null,
      "outputs": []
    },
    {
      "cell_type": "markdown",
      "source": [
        "* Activate the virtual environment\n",
        "  * On Windows"
      ],
      "metadata": {
        "id": "A3sc6wXOqCNk"
      }
    },
    {
      "cell_type": "code",
      "source": [
        "myenv\\Scripts\\activate"
      ],
      "metadata": {
        "id": "ZodQjtpLqMdo"
      },
      "execution_count": null,
      "outputs": []
    },
    {
      "cell_type": "markdown",
      "source": [
        "   * On macOS/Linux"
      ],
      "metadata": {
        "id": "u4zs7_FIqPL8"
      }
    },
    {
      "cell_type": "code",
      "execution_count": null,
      "metadata": {
        "id": "jgroKgZfoR_O"
      },
      "outputs": [],
      "source": [
        "source myenv/bin/activate"
      ]
    },
    {
      "cell_type": "markdown",
      "source": [
        "3. Install Required Libraries:\n",
        "* Install 'nltk'"
      ],
      "metadata": {
        "id": "C6pyMCvsqbWs"
      }
    },
    {
      "cell_type": "code",
      "source": [
        "pip install nltk"
      ],
      "metadata": {
        "id": "VZEqwH-xqiAk",
        "colab": {
          "base_uri": "https://localhost:8080/"
        },
        "outputId": "e8e877fd-c7a2-4352-c68f-dc25ddb2e2e3"
      },
      "execution_count": null,
      "outputs": [
        {
          "output_type": "stream",
          "name": "stdout",
          "text": [
            "Requirement already satisfied: nltk in /usr/local/lib/python3.10/dist-packages (3.8.1)\n",
            "Requirement already satisfied: click in /usr/local/lib/python3.10/dist-packages (from nltk) (8.1.7)\n",
            "Requirement already satisfied: joblib in /usr/local/lib/python3.10/dist-packages (from nltk) (1.4.2)\n",
            "Requirement already satisfied: regex>=2021.8.3 in /usr/local/lib/python3.10/dist-packages (from nltk) (2024.5.15)\n",
            "Requirement already satisfied: tqdm in /usr/local/lib/python3.10/dist-packages (from nltk) (4.66.4)\n"
          ]
        }
      ]
    },
    {
      "cell_type": "markdown",
      "source": [
        "**2. Download NLTK Resources**\n",
        "\n",
        "You need to download specific resources from 'nltk' to use stopwords and tokenizers. Run the following code to download these resources:"
      ],
      "metadata": {
        "id": "eqU2lIubql-w"
      }
    },
    {
      "cell_type": "code",
      "source": [
        "import nltk\n",
        "nltk.download('punkt')\n",
        "nltk.download('stopwords')"
      ],
      "metadata": {
        "id": "I9REAMWKqrNo",
        "colab": {
          "base_uri": "https://localhost:8080/"
        },
        "outputId": "9921c7a2-d350-4090-cb9f-527a52ce6408"
      },
      "execution_count": null,
      "outputs": [
        {
          "output_type": "stream",
          "name": "stderr",
          "text": [
            "[nltk_data] Downloading package punkt to /root/nltk_data...\n",
            "[nltk_data]   Unzipping tokenizers/punkt.zip.\n",
            "[nltk_data] Downloading package stopwords to /root/nltk_data...\n",
            "[nltk_data]   Unzipping corpora/stopwords.zip.\n"
          ]
        },
        {
          "output_type": "execute_result",
          "data": {
            "text/plain": [
              "True"
            ]
          },
          "metadata": {},
          "execution_count": 3
        }
      ]
    },
    {
      "cell_type": "markdown",
      "source": [
        "**3. Implement the Preprocessing Code**\n",
        "\n",
        "Create a Python script or Jupyter Notebook with the following code to perform text preprocessing:"
      ],
      "metadata": {
        "id": "gGblDLqBqthU"
      }
    },
    {
      "cell_type": "code",
      "source": [
        "import re\n",
        "import nltk\n",
        "from nltk.corpus import stopwords\n",
        "from nltk.tokenize import word_tokenize\n",
        "from nltk.stem import PorterStemmer\n",
        "\n",
        "# Initialize the stemmer and stopwords\n",
        "stemmer = PorterStemmer()\n",
        "stop_words = set(stopwords.words('english'))\n",
        "\n",
        "def preprocess_text(text):\n",
        "    # Convert text to lowercase\n",
        "    text = text.lower()\n",
        "\n",
        "    # Remove punctuation\n",
        "    text = re.sub(r'[^\\w\\s]', '', text)\n",
        "\n",
        "    # Tokenize the text\n",
        "    tokens = word_tokenize(text)\n",
        "\n",
        "    # Remove stopwords and perform stemming\n",
        "    tokens = [stemmer.stem(word) for word in tokens if word not in stop_words]\n",
        "\n",
        "    return tokens\n",
        "\n",
        "# Sample text\n",
        "text = \"Hello world! This is an example of text preprocessing in Python. Let's clean this text.\"\n",
        "\n",
        "# Preprocess the sample text\n",
        "preprocessed_tokens = preprocess_text(text)\n",
        "print(preprocessed_tokens)"
      ],
      "metadata": {
        "id": "94-YPJfyqzxQ",
        "colab": {
          "base_uri": "https://localhost:8080/"
        },
        "outputId": "c8c258ef-db7b-4a98-8d3e-0d3d844105d6"
      },
      "execution_count": null,
      "outputs": [
        {
          "output_type": "stream",
          "name": "stdout",
          "text": [
            "['hello', 'world', 'exampl', 'text', 'preprocess', 'python', 'let', 'clean', 'text']\n"
          ]
        }
      ]
    },
    {
      "cell_type": "markdown",
      "source": [
        "4. **Run the Code**\n",
        "\n",
        "Execute the script or notebook to see the output of the 'preprocessing steps'. The preprocessed_tokens variable should contain the cleaned and processed tokens from the sample text."
      ],
      "metadata": {
        "id": "-ENrOledq1j8"
      }
    },
    {
      "cell_type": "markdown",
      "source": [
        "5. **Implement Bag of Words (BoW)**\n",
        "\n",
        "Add the following code to convert the preprocessed text into a Bag of Words model:"
      ],
      "metadata": {
        "id": "tUpab2Hrq94G"
      }
    },
    {
      "cell_type": "code",
      "source": [
        "from sklearn.feature_extraction.text import CountVectorizer\n",
        "\n",
        "# Sample documents\n",
        "documents = [\n",
        "    \"Hello world! This is an example of text preprocessing.\",\n",
        "    \"Text mining is an important aspect of data analysis.\",\n",
        "    \"Let's clean and prepare text data for analysis.\"\n",
        "]\n",
        "\n",
        "# Initialize CountVectorizer\n",
        "vectorizer = CountVectorizer(stop_words='english')\n",
        "\n",
        "# Fit and transform the documents\n",
        "X = vectorizer.fit_transform(documents)\n",
        "\n",
        "# Get feature names and converted document matrix\n",
        "feature_names = vectorizer.get_feature_names_out()\n",
        "document_matrix = X.toarray()\n",
        "\n",
        "print(\"Feature Names:\", feature_names)\n",
        "print(\"Document Matrix (BoW):\")\n",
        "print(document_matrix)"
      ],
      "metadata": {
        "id": "SwV7ch_5rGD8",
        "colab": {
          "base_uri": "https://localhost:8080/"
        },
        "outputId": "ec9a92b5-7bb7-4d79-ecde-35421eb2c90d"
      },
      "execution_count": null,
      "outputs": [
        {
          "output_type": "stream",
          "name": "stdout",
          "text": [
            "Feature Names: ['analysis' 'aspect' 'clean' 'data' 'example' 'hello' 'important' 'let'\n",
            " 'mining' 'prepare' 'preprocessing' 'text' 'world']\n",
            "Document Matrix (BoW):\n",
            "[[0 0 0 0 1 1 0 0 0 0 1 1 1]\n",
            " [1 1 0 1 0 0 1 0 1 0 0 1 0]\n",
            " [1 0 1 1 0 0 0 1 0 1 0 1 0]]\n"
          ]
        }
      ]
    },
    {
      "cell_type": "markdown",
      "source": [
        "**6. Implement TF-IDF**\n",
        "\n",
        "Add the following code to convert the text into a TF-IDF representation:"
      ],
      "metadata": {
        "id": "rI7rU_V0rK8g"
      }
    },
    {
      "cell_type": "code",
      "source": [
        "from sklearn.feature_extraction.text import TfidfVectorizer\n",
        "\n",
        "# Initialize TfidfVectorizer\n",
        "tfidf_vectorizer = TfidfVectorizer(stop_words='english')\n",
        "\n",
        "# Fit and transform the documents\n",
        "X_tfidf = tfidf_vectorizer.fit_transform(documents)\n",
        "\n",
        "# Get feature names and converted document matrix\n",
        "feature_names_tfidf = tfidf_vectorizer.get_feature_names_out()\n",
        "document_matrix_tfidf = X_tfidf.toarray()\n",
        "\n",
        "print(\"Feature Names (TF-IDF):\", feature_names_tfidf)\n",
        "print(\"Document Matrix (TF-IDF):\")\n",
        "print(document_matrix_tfidf)"
      ],
      "metadata": {
        "id": "7kR0SfdlrI5V",
        "colab": {
          "base_uri": "https://localhost:8080/"
        },
        "outputId": "1d2f825a-da7e-4bc9-da01-864cddc2007c"
      },
      "execution_count": null,
      "outputs": [
        {
          "output_type": "stream",
          "name": "stdout",
          "text": [
            "Feature Names (TF-IDF): ['analysis' 'aspect' 'clean' 'data' 'example' 'hello' 'important' 'let'\n",
            " 'mining' 'prepare' 'preprocessing' 'text' 'world']\n",
            "Document Matrix (TF-IDF):\n",
            "[[0.         0.         0.         0.         0.47952794 0.47952794\n",
            "  0.         0.         0.         0.         0.47952794 0.28321692\n",
            "  0.47952794]\n",
            " [0.35829137 0.4711101  0.         0.35829137 0.         0.\n",
            "  0.4711101  0.         0.4711101  0.         0.         0.27824521\n",
            "  0.        ]\n",
            " [0.35829137 0.         0.4711101  0.35829137 0.         0.\n",
            "  0.         0.4711101  0.         0.4711101  0.         0.27824521\n",
            "  0.        ]]\n"
          ]
        }
      ]
    },
    {
      "cell_type": "markdown",
      "source": [
        "***Exercises***\n",
        "\n",
        "* Implement Lemmatization: Replace the stemming process with lemmatization using WordNetLemmatizer.\n",
        "* Handle Different Languages: Modify the code to preprocess text in a different language using the appropriate stopwords and tokenizers.\n",
        "\n",
        "* Explore Other Vectorizers: Try using HashingVectorizer and compare it with CountVectorizer and TfidfVectorizer."
      ],
      "metadata": {
        "id": "EWQ96dS8rUeI"
      }
    }
  ]
}